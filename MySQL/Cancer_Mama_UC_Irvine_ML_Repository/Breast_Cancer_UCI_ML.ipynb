{
 "cells": [
  {
   "cell_type": "markdown",
   "id": "7adf8a22",
   "metadata": {},
   "source": [
    "# <div align=\"center\">Ocorrência de Câncer de Mama - UCI Machine Learning Repository</div>"
   ]
  },
  {
   "cell_type": "markdown",
   "id": "e53ddb6a",
   "metadata": {},
   "source": [
    "<div align=\"center\"><img src=\"https://i.imgur.com/71iwWHI.png\"></div>"
   ]
  },
  {
   "cell_type": "markdown",
   "id": "bb985064",
   "metadata": {},
   "source": [
    "## Introdução"
   ]
  },
  {
   "cell_type": "markdown",
   "id": "8a7bedaa",
   "metadata": {},
   "source": [
    "Esta análise irá explorar o campo das ciências biológicas, especificamente na **ocorrência de câncer de mama**, por meio dos dados disponibilizados pelo **Centro de Machine Learning e Sistemas Inteligentes da Universidade da California (UCI)**, localizada nos Estados Unidos. \n",
    "\n",
    "O **câncer de mama** se caracteriza por ser o tipo **mais incidente** em mulheres no mundo totalizando acima de **2.5 milhões de casos** representando **25% de novos casos** de novas ocorrências de câncer em mulheres segundo o *IARC* (2020). No Brasil não é diferente sendo **o tipo mais indicente em mulheres em todas as regiões do país**. Segundo estimativas do *INCA*, em 2022, é previsto em torno de **685 mil casos** da doença por aqui.\n",
    "\n",
    "\n",
    "A pesquisa foi realizada pelo **Instituto de Oncologia do Centro Médico Universitário** de **Ljubljana** na ocasião da antiga Iugoslávia, hoje, capital da **Eslovênia**.\n",
    "\n",
    "O dataset é composto por 286 ocorrências de câncer de mama se dividindo em duas classes:\n",
    "- **Recorrente**: possuindo 201 instâncias\n",
    "- **Não recorrente**: 85 instâncias\n",
    "\n",
    "E são descritos por 9 atributos, a seguir:\n",
    "- **Idade**\n",
    "- **Menopausa**: pré ou pós\n",
    "- **Tamanho do Tumor**: em milímetros\n",
    "- **Número de Nódulos**: 0 a 39\n",
    "- **Ocorrência de Metastase**\n",
    "- **Grau de Malignidade**: tendência de tumores se tornarem progressivamente piores. Grau 1 (menor) a 3 (maior)\n",
    "- **Seio**: esquerdo ou direito\n",
    "- **Quadrante de ocorrência**\n",
    "- **Irradiação**: ocorrência ou não de tratamento por radioterapia\n",
    "\n",
    "<br>\n",
    "\n",
    "**Fonte**\n",
    "<div style=\"font-size: 12px\">\n",
    "Dua, D. and Graff, C. (2019). <a href=\"http://archive.ics.uci.edu/ml\">UCI Machine Learning Repository</a>. Irvine, CA: University of California, School of Information and Computer Science.\n",
    "</div>\n"
   ]
  }
 ],
 "metadata": {
  "kernelspec": {
   "display_name": "Python 3.10.6 64-bit (system)",
   "language": "python",
   "name": "python3"
  },
  "language_info": {
   "codemirror_mode": {
    "name": "ipython",
    "version": 3
   },
   "file_extension": ".py",
   "mimetype": "text/x-python",
   "name": "python",
   "nbconvert_exporter": "python",
   "pygments_lexer": "ipython3",
   "version": "3.10.6"
  },
  "vscode": {
   "interpreter": {
    "hash": "cb145e07362a411d0cf0ca3f0fffbf1a65e28a5abd5696dce8b1def397d926c6"
   }
  }
 },
 "nbformat": 4,
 "nbformat_minor": 5
}
