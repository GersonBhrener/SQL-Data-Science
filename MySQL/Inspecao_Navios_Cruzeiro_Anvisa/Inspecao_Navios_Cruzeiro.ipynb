{
 "cells": [
  {
   "cell_type": "markdown",
   "metadata": {},
   "source": [
    "# <div align=\"center\">Programa Nacional de Vigilância em Saúde em Navios de Cruzeiro</div>"
   ]
  },
  {
   "cell_type": "markdown",
   "metadata": {},
   "source": [
    "<div align=\"center\"><img src=\"https://i.imgur.com/FkLJ24t.png\"></div>"
   ]
  },
  {
   "cell_type": "markdown",
   "metadata": {},
   "source": [
    "A análise visa responder algumas perguntas sobre inspeção de navios de cruzeiro que faz parte do **Programa Nacional de Vigilância Sanitária para Navios de Cruzeiro** realizado pela **Anvisa** no perído de outubro até o mês de abril do ano subsquente. O objetivo deste programa é avaliar a segurança sanitária dos alimentos e da água para consumo nas embarcações além de acompanhar o Plano de Limpeza e Desinfecção nas instalações e áreas internas dos navios reforçando a prevenção de surtos de doenças no decorrer das viagens.\n",
    "\n",
    "A Anvisa classifica os navios em níveis:\n",
    "\n",
    "|Nível |Pontuação de Risco | Categoria |\n",
    "|:---:|:---:|:---:|\n",
    "| A | 0-150 | Excelente|\n",
    "| B | 151-300 | Satisfatório|\n",
    "| C | 301-450 | Aceitável|\n",
    "| D | 450-... | Insatisfatório|\n",
    "\n",
    "<br>\n",
    "\n",
    "O schema *sql-dsa* foi criado e os dados foram inseridos no banco de dados através da **MySQL Benchmark**.\n",
    "\n",
    "Nesta análise são mostradas as características de **selecão, ordenamento e filtragem** da linguagem **SQL**"
   ]
  },
  {
   "cell_type": "markdown",
   "metadata": {},
   "source": [
    "**Dataset em formato .CSV está disponível:**\n",
    "- [Anvisa](https://dados.anvisa.gov.br/dados/DADOS_ABERTOS_INSPECAO_NAVIO.csv)\n",
    "- [Projeto](./DADOS_ABERTOS_INSPECAO_NAVIO.csv).\n",
    "\n",
    "<br>\n",
    "\n",
    "**Dicionário de dados em formato .PDF está disponível**\n",
    "- [Anvisa](https://dados.anvisa.gov.br/dados/Documentacao_e_Dicionario_de_Dados_Navios_Cruzeiro.pdf)\n",
    "- [Projeto](./Documentacao_e_Dicionario_de_Dados_Navios_Cruzeiro.pdf)\n",
    "\n",
    "<br>\n",
    "\n",
    "**Script Conexão Python-MySQL**\n",
    "- [Jupyter Notebook]()\n",
    "\n",
    "<br>\n",
    "\n",
    "**Script para a criação da tabela tb.navios**\n",
    "- [SQL](./cria_tabela_tb.navios.sql)"
   ]
  },
  {
   "attachments": {},
   "cell_type": "markdown",
   "metadata": {},
   "source": [
    "<hr>"
   ]
  },
  {
   "attachments": {},
   "cell_type": "markdown",
   "metadata": {},
   "source": [
    "## <a name=\"indice\"></a> ÍNDICE\n",
    "\n",
    "**Obs**: direcionamento do índice apenas quando este notebook é executado pelo Jupyter Notebook.\n",
    "\n",
    "- [Conexão](#conexao)\n",
    "- [Schema Anvisa e Tabela Navios](#tabela-anvisa)\n",
    "- [Análise](#analise)\n",
    "    1. [Total de Embarcações Diferentes](#1)\n",
    "    2. [Número Total de Inspeções](#2)\n",
    "    3. [Quais embarcações e quando ocorreu determinada classificação de risco para uma embarcação](#3)\n",
    "    4. [Navios com avaliação de qualidade máxima](#4)\n",
    "    5. [As 10 piores ocorrências de inspeção](#5)\n",
    "    6. [Meios: Navios com padrões B e C e pontuação de risco no range de 151 a 450](#6)\n",
    "    7. [Extremos: Navios com padrões A e D e pontuação de risco FORA do range de 151 a 450](#7)\n",
    "    8. [COVID-19: Embarcações com iniciais A e B, índice de conformidade B ou C e conformidade <= 90% antes da pandemia](#8)"
   ]
  },
  {
   "attachments": {},
   "cell_type": "markdown",
   "metadata": {},
   "source": [
    "<hr>"
   ]
  },
  {
   "cell_type": "markdown",
   "metadata": {},
   "source": [
    "## <a name=\"conexao\"></a> Conexão"
   ]
  },
  {
   "cell_type": "code",
   "execution_count": null,
   "metadata": {},
   "outputs": [],
   "source": [
    "#Conexão Jupyter Notebook-MySQL\n",
    "\n",
    "import sqlalchemy\n",
    "\n",
    "user = input('Digite o usuário: ')\n",
    "psw = input('Digite a senha: ')\n",
    "host = input('Digite o host: ')\n",
    "porta = input('Digite a porta de conexão: ')\n",
    "conexao = 'mysql+mysqlconnector://'+user+':'+psw+'@'+host+':'+porta\n",
    "\n",
    "%reload_ext sql\n",
    "%sql $conexao\n"
   ]
  },
  {
   "attachments": {},
   "cell_type": "markdown",
   "metadata": {},
   "source": [
    "<hr>"
   ]
  },
  {
   "attachments": {},
   "cell_type": "markdown",
   "metadata": {},
   "source": [
    "## <a name=\"tabela-anvisa\"></a>Schema Anvisa e Tabela Navios"
   ]
  },
  {
   "cell_type": "code",
   "execution_count": null,
   "metadata": {},
   "outputs": [],
   "source": [
    "%%sql\n",
    "\n",
    "CREATE SCHEMA IF NOT EXISTS sql01_anvisa\n",
    "CHARACTER SET = utf8mb4;\n",
    "\n",
    "CREATE TABLE IF NOT EXISTS `sql01_anvisa`.`tb_navios`(\n",
    "  `nome_navio` VARCHAR(50) NULL,\n",
    "  `mes_ano` VARCHAR(10) NULL,\n",
    "  `classificacao_risco` VARCHAR(15) NULL,\n",
    "  `indice_conformidade` VARCHAR(15) NULL,\n",
    "  `pontuacao_risco` INT NULL,\n",
    "  `temporada` VARCHAR(200) NULL);\n",
    "\n",
    "  USE sql01_anvisa;"
   ]
  },
  {
   "attachments": {},
   "cell_type": "markdown",
   "metadata": {},
   "source": [
    "<hr>"
   ]
  },
  {
   "cell_type": "markdown",
   "metadata": {},
   "source": [
    "## <a name=\"analise\"></a> Análise"
   ]
  },
  {
   "attachments": {},
   "cell_type": "markdown",
   "metadata": {},
   "source": [
    "### 1\n",
    "\n",
    ">**Inicialmente podemos contabilizar quantas embarcações diferentes foram inspecionadas ao longo de todo registro de inspeções**\n",
    "\n",
    "[Voltar ao início](#indice)"
   ]
  },
  {
   "cell_type": "code",
   "execution_count": null,
   "metadata": {
    "vscode": {
     "languageId": "sql"
    }
   },
   "outputs": [],
   "source": [
    "%%sql \n",
    "\n",
    "SELECT \n",
    "    COUNT(DISTINCT nome_navio) AS 'Quantidade de Navios Inspecionados'\n",
    "FROM\n",
    "    tb_navios;"
   ]
  },
  {
   "cell_type": "markdown",
   "metadata": {},
   "source": [
    "### 2\n",
    "\n",
    "> **Contabilizar o número total de inspeções ao longo do período**\n",
    "\n",
    "[Voltar ao início](#indice)"
   ]
  },
  {
   "cell_type": "code",
   "execution_count": null,
   "metadata": {
    "vscode": {
     "languageId": "sql"
    }
   },
   "outputs": [],
   "source": [
    "%%sql\n",
    "\n",
    "SELECT \n",
    "    COUNT(*) AS 'Quantidade Total de Inspeções'\n",
    "FROM\n",
    "    tb_navios;"
   ]
  },
  {
   "cell_type": "markdown",
   "metadata": {},
   "source": [
    "### 3\n",
    "\n",
    "> **Neste dataset, várias embarcações foram inspecionadas mais de uma vez. Podemos saber quais navios, pelo menos uma vez, receberam uma determinada classificação a risco e quando isso ocorreu.**\n",
    "\n",
    "[Voltar ao início](#indice)"
   ]
  },
  {
   "cell_type": "code",
   "execution_count": null,
   "metadata": {
    "vscode": {
     "languageId": "sql"
    }
   },
   "outputs": [],
   "source": [
    "%%sql\n",
    "\n",
    "SELECT DISTINCT\n",
    "    nome_navio AS 'Nome do Navio',\n",
    "    classificacao_risco AS 'Classificação de Risco',\n",
    "    mes_ano AS 'Data da Inspeção'\n",
    "FROM\n",
    "    tb_navios\n",
    "WHERE\n",
    "    classificacao_risco = 'A'\n",
    "ORDER BY nome_navio ASC , mes_ano DESC;"
   ]
  },
  {
   "cell_type": "markdown",
   "metadata": {},
   "source": [
    "### 4\n",
    "\n",
    "> **Outra indagação é sobre quais ocasiões as embarcações conseguiram alcançar os requisitos plenos da Anvisa, ou seja, índice de conformidade de 100% e pontuação de risco 0 pelo menos uma vez? Como os resultados de índice e pontuação serão idênticos, podemos ordenar pelo nome do navio na ordem A-Z (ou crescente) e a data de ocorrência da inspeção.**\n",
    "\n",
    "[Voltar ao início](#indice)"
   ]
  },
  {
   "cell_type": "code",
   "execution_count": null,
   "metadata": {
    "vscode": {
     "languageId": "sql"
    }
   },
   "outputs": [],
   "source": [
    "%%sql\n",
    "\n",
    "SELECT \n",
    "    nome_navio AS 'Nome do Navio',\n",
    "    indice_conformidade AS 'Índice de Conformidade',\n",
    "    pontuacao_risco AS 'Pontuação de Risco',\n",
    "    mes_ano AS 'Data da Inspeção'\n",
    "FROM\n",
    "    tb_navios\n",
    "WHERE\n",
    "    indice_conformidade = 100\n",
    "        AND pontuacao_risco = 0\n",
    "ORDER BY mes_ano , nome_navio;"
   ]
  },
  {
   "cell_type": "markdown",
   "metadata": {},
   "source": [
    "### 5\n",
    "\n",
    "> **E quais seriam as embarcações com os piores indicadores? Selecionamos os 10 piores resultados da classificaçao D juntamente com a data da ocorrência.**\n",
    "\n",
    "[Voltar ao início](#indice)"
   ]
  },
  {
   "cell_type": "code",
   "execution_count": null,
   "metadata": {
    "vscode": {
     "languageId": "sql"
    }
   },
   "outputs": [],
   "source": [
    "%%sql\n",
    "\n",
    "SELECT DISTINCT\n",
    "    nome_navio AS 'Nome do Navio',\n",
    "    pontuacao_risco AS 'Pontuação de Risco',\n",
    "    mes_ano AS 'Data da Inspeção'\n",
    "FROM\n",
    "    tb_navios\n",
    "WHERE\n",
    "    pontuacao_risco > 450\n",
    "ORDER BY pontuacao_risco DESC\n",
    "LIMIT 10;\n"
   ]
  },
  {
   "cell_type": "markdown",
   "metadata": {},
   "source": [
    "### 6\n",
    "\n",
    "> **Ao retornar valores em um intervalo determinado podemos selecionar as embarcações que receberam padrões B e C pelo menos uma vez retornando um range de 151 até 450 pontos de risco.**\n",
    "\n",
    "[Voltar ao início](#indice)"
   ]
  },
  {
   "cell_type": "code",
   "execution_count": null,
   "metadata": {
    "vscode": {
     "languageId": "sql"
    }
   },
   "outputs": [],
   "source": [
    "%%sql\n",
    "\n",
    "SELECT \n",
    "    nome_navio AS 'Nome do Navio',\n",
    "    pontuacao_risco AS 'Pontuação de Risco',\n",
    "    mes_ano AS 'Data da Inspeção'\n",
    "FROM\n",
    "    tb_navios\n",
    "WHERE\n",
    "    pontuacao_risco BETWEEN 151 AND 450\n",
    "ORDER BY nome_navio ASC , mes_ano DESC;"
   ]
  },
  {
   "cell_type": "markdown",
   "metadata": {},
   "source": [
    "### 7\n",
    "\n",
    "> **O inverso também se aplica caso não necessitemos que determinado grupo seja selecionado. Agora vamos retornar apenas os navios que já estiveram no padrão A ou D**\n",
    "\n",
    "[Voltar ao início](#indice)"
   ]
  },
  {
   "cell_type": "code",
   "execution_count": null,
   "metadata": {
    "vscode": {
     "languageId": "sql"
    }
   },
   "outputs": [],
   "source": [
    "%%sql\n",
    "\n",
    "SELECT \n",
    "    nome_navio AS 'Nome do Navio',\n",
    "    pontuacao_risco AS 'Pontuação de Risco',\n",
    "    mes_ano AS 'Data da Inspeção'\n",
    "FROM\n",
    "    tb_navios\n",
    "WHERE\n",
    "    pontuacao_risco NOT BETWEEN 151 AND 450\n",
    "ORDER BY pontuacao_risco , nome_navio , mes_ano DESC;"
   ]
  },
  {
   "cell_type": "markdown",
   "metadata": {},
   "source": [
    "### 8\n",
    "\n",
    "> **Quais embarcações que comecem com a letra 'A' ou 'B' já fizeram parte, pelo menos uma vez, dos níveis B ou C e tiveram índices de conformidade menor ou igual a 95% em inspeções antes do ano em que a pandemia do COVID-19 chegou ao Brasil (2020)?**\n",
    "\n",
    "[Voltar ao início](#indice)"
   ]
  },
  {
   "cell_type": "code",
   "execution_count": null,
   "metadata": {
    "vscode": {
     "languageId": "sql"
    }
   },
   "outputs": [],
   "source": [
    "%%sql\n",
    "\n",
    "SELECT \n",
    "    nome_navio AS 'Nome do Navio',\n",
    "    mes_ano AS 'Data da Inspeção',\n",
    "    classificacao_risco AS 'Classificação de Risco',\n",
    "    indice_conformidade AS 'Ìndice de Conformidade',\n",
    "    temporada AS Temporada\n",
    "FROM\n",
    "    tb_navios\n",
    "WHERE\n",
    "    (classificacao_risco = 'B'\n",
    "        OR classificacao_risco = 'C')\n",
    "        AND indice_conformidade <= 95\n",
    "        AND mes_ano < '01/2020'\n",
    "        AND (nome_navio LIKE 'A%'\n",
    "        OR nome_navio LIKE 'B%')\n",
    "ORDER BY mes_ano , indice_conformidade , nome_navio;"
   ]
  }
 ],
 "metadata": {
  "kernelspec": {
   "display_name": "Python 3 (ipykernel)",
   "language": "python",
   "name": "python3"
  },
  "language_info": {
   "codemirror_mode": {
    "name": "ipython",
    "version": 3
   },
   "file_extension": ".py",
   "mimetype": "text/x-python",
   "name": "python",
   "nbconvert_exporter": "python",
   "pygments_lexer": "ipython3",
   "version": "3.11.1"
  },
  "vscode": {
   "interpreter": {
    "hash": "cb145e07362a411d0cf0ca3f0fffbf1a65e28a5abd5696dce8b1def397d926c6"
   }
  }
 },
 "nbformat": 4,
 "nbformat_minor": 2
}
